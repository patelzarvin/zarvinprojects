{
 "cells": [
  {
   "cell_type": "code",
   "execution_count": 3,
   "id": "9d90428c-5845-4d1a-b2d9-64eff93f3a62",
   "metadata": {},
   "outputs": [
    {
     "name": "stdin",
     "output_type": "stream",
     "text": [
      "enter number 420\n"
     ]
    },
    {
     "name": "stdout",
     "output_type": "stream",
     "text": [
      "number positive\n"
     ]
    }
   ],
   "source": [
    "#(4) Write a Python program to check if a number is positive, negative or zero. \n",
    "a = int(input(\"enter number\"))\n",
    "if a>0:\n",
    "    print(\"number positive\")\n",
    "elif a==0:\n",
    "     print(\"number zero\")\n",
    "else:\n",
    "     print(\"number nagetive\")"
   ]
  },
  {
   "cell_type": "code",
   "execution_count": 5,
   "id": "22b5c5f5-e58a-45a3-83e1-788f95283760",
   "metadata": {},
   "outputs": [
    {
     "name": "stdin",
     "output_type": "stream",
     "text": [
      "enter a number 5\n"
     ]
    },
    {
     "name": "stdout",
     "output_type": "stream",
     "text": [
      "factorial of  given number is : 120\n"
     ]
    }
   ],
   "source": [
    "#(5) Write a Python program to get the Factorial number of given numbers. \n",
    "b= int(input(\"enter a number\"))\n",
    "if b<0 :\n",
    "       print(\"write a positive number\")\n",
    "else:\n",
    "       factorial = 1\n",
    "       for  i in range (1,b+1):\n",
    "           factorial*= i\n",
    "       print(\"factorial of  given number is :\",factorial)\n"
   ]
  },
  {
   "cell_type": "code",
   "execution_count": 119,
   "id": "30c1c4df-1a48-4331-a895-14b6bd01f85e",
   "metadata": {},
   "outputs": [
    {
     "name": "stdin",
     "output_type": "stream",
     "text": [
      "enter a number 5\n"
     ]
    },
    {
     "name": "stdout",
     "output_type": "stream",
     "text": [
      "[0, 1, 1, 2, 3, 5, 8]\n"
     ]
    }
   ],
   "source": [
    "###### (6) Write a Python program to get the Fibonacci series of given range. \n",
    "num= int(input(\"enter a number\"))\n",
    "a4 =[0,1]\n",
    "for i in range(num):\n",
    "    b4 = a4[-1] + a4[-2]\n",
    "    a4.append(b4)\n",
    "print(a4)"
   ]
  },
  {
   "cell_type": "code",
   "execution_count": 11,
   "id": "c5706be3-b67c-44d2-bfee-49caacc3584f",
   "metadata": {},
   "outputs": [
    {
     "name": "stdout",
     "output_type": "stream",
     "text": [
      "1\n",
      "2\n",
      "4\n",
      "5\n",
      "6\n",
      "7\n",
      "8\n",
      "9\n",
      "10\n",
      "11\n",
      "12\n",
      "13\n",
      "14\n",
      "15\n",
      "16\n",
      "17\n",
      "18\n",
      "19\n",
      "20\n",
      "21\n",
      "22\n",
      "23\n",
      "24\n",
      "25\n",
      "26\n",
      "27\n",
      "28\n",
      "29\n",
      "30\n",
      "31\n",
      "32\n",
      "33\n",
      "34\n",
      "35\n",
      "36\n",
      "37\n",
      "38\n",
      "39\n",
      "40\n",
      "41\n",
      "42\n",
      "43\n",
      "44\n",
      "45\n",
      "46\n",
      "47\n",
      "48\n",
      "49\n"
     ]
    }
   ],
   "source": [
    "#(8) What is the purpose continuing statement in python?\n",
    "\n",
    "for i in range(1,50):\n",
    "   if i == 3:\n",
    "    continue\n",
    "   print(i)"
   ]
  },
  {
   "cell_type": "code",
   "execution_count": 17,
   "id": "9a7d581c-f684-4457-841d-fed3a464d2bb",
   "metadata": {},
   "outputs": [
    {
     "name": "stdin",
     "output_type": "stream",
     "text": [
      "enter a: 12\n",
      "enter b: 35\n"
     ]
    },
    {
     "name": "stdout",
     "output_type": "stream",
     "text": [
      "number after swapping are:a =  35 b= 12\n"
     ]
    }
   ],
   "source": [
    "#(9) Write python program that swap two number with temp variable and without temp variable.\n",
    "\n",
    "g = int(input(\"enter a:\"))\n",
    "h = int(input(\"enter b:\"))\n",
    "\n",
    "temp = g \n",
    "g=h\n",
    "h= temp\n",
    "print(\"number after swapping are:\" \"a = \",g ,\"b=\",h)"
   ]
  },
  {
   "cell_type": "code",
   "execution_count": 19,
   "id": "e9f82134-c512-44dd-bddc-03f9e35efc73",
   "metadata": {},
   "outputs": [
    {
     "name": "stdin",
     "output_type": "stream",
     "text": [
      "enter a number: 5\n"
     ]
    },
    {
     "name": "stdout",
     "output_type": "stream",
     "text": [
      "number is odd\n"
     ]
    }
   ],
   "source": [
    "#(10) Write a Python program to find whether a given number is even or odd, print out an appropriate message to the user. \n",
    "i= int(input(\"enter number:\"))\n",
    "if i %2 == 0:\n",
    "    print(\"number is even\")\n",
    "else:\n",
    "    print(\"number is odd\")"
   ]
  },
  {
   "cell_type": "code",
   "execution_count": 21,
   "id": "0dd74dde-f047-4a5d-a45e-980f40e84c27",
   "metadata": {},
   "outputs": [
    {
     "name": "stdin",
     "output_type": "stream",
     "text": [
      "enter a letter  k\n"
     ]
    },
    {
     "name": "stdout",
     "output_type": "stream",
     "text": [
      " not vowel\n"
     ]
    }
   ],
   "source": [
    "#(11) Write a Python program to test whether a passed letter is a vowel or not. \n",
    "j = input(\"enter a letter \")\n",
    "if j in 'AEIOUaeiou':\n",
    "    print(\"vowel\")\n",
    "else:\n",
    "    print(\" not vowel\")"
   ]
  },
  {
   "cell_type": "code",
   "execution_count": 25,
   "id": "073f90d2-cb08-4792-8119-e58ec2fe7d4f",
   "metadata": {},
   "outputs": [
    {
     "name": "stdin",
     "output_type": "stream",
     "text": [
      "enter a first number: 1\n",
      "enter a second number: 2\n",
      "enter a third number: 3\n"
     ]
    },
    {
     "name": "stdout",
     "output_type": "stream",
     "text": [
      "the sum is : 6\n"
     ]
    }
   ],
   "source": [
    "#(12) Write a Python program to sum of three given integers. However, if two values are equal sum will be zero.\n",
    "k= int(input(\"enter first number:\"))\n",
    "l = int(input(\"enter second number:\"))\n",
    "m = int(input(\"enter third number:\"))\n",
    "\n",
    "if k==l or l==m or m==k:\n",
    "    print(\" zero\")\n",
    "else:\n",
    "    print(\"the sum is :\",k+l+m)"
   ]
  },
  {
   "cell_type": "code",
   "execution_count": 29,
   "id": "4a91efd2-ea1c-45f1-8d33-a1260b849180",
   "metadata": {},
   "outputs": [
    {
     "name": "stdin",
     "output_type": "stream",
     "text": [
      "enter first number: 420\n",
      "enter second number: 120\n"
     ]
    },
    {
     "name": "stdout",
     "output_type": "stream",
     "text": [
      "false\n"
     ]
    }
   ],
   "source": [
    "#(13) Write a Python program that will return true if the two given integer values are equal or their sum or difference is 5. \n",
    "n= int(input(\"enter first number:\"))\n",
    "o= int(input(\"enter second number:\"))\n",
    "if n==o or n+o==5 or n-o==5:\n",
    "    print(\"true\")\n",
    "else:\n",
    "    print(\"false\")"
   ]
  },
  {
   "cell_type": "code",
   "execution_count": 31,
   "id": "40f21676-3afd-4cdb-8d2e-2a5bbe0e9383",
   "metadata": {},
   "outputs": [
    {
     "name": "stdin",
     "output_type": "stream",
     "text": [
      "enter number 420\n"
     ]
    },
    {
     "name": "stdout",
     "output_type": "stream",
     "text": [
      "88410\n"
     ]
    }
   ],
   "source": [
    "#(14) Write a python program to sum of the first n positive integers. \n",
    "p = int(input(\"enter number\"))\n",
    "sum = 0\n",
    "for i in range(1,p+1):\n",
    "    sum += i\n",
    "print(sum)\n",
    "    "
   ]
  },
  {
   "cell_type": "code",
   "execution_count": 33,
   "id": "ec1685a7-4998-4e0c-b023-498433bc8fb3",
   "metadata": {},
   "outputs": [
    {
     "name": "stdin",
     "output_type": "stream",
     "text": [
      "enter a string zarvinprogrammer\n"
     ]
    },
    {
     "name": "stdout",
     "output_type": "stream",
     "text": [
      "length of string is  16\n"
     ]
    }
   ],
   "source": [
    "#(15) Write a Python program to calculate the length of a string. \n",
    "q = input(\"enter a string\")\n",
    "print(\"length of string is \",len(q))"
   ]
  },
  {
   "cell_type": "code",
   "execution_count": null,
   "id": "23bcc351-49d2-4c0c-b319-771ba648fcc2",
   "metadata": {},
   "outputs": [],
   "source": [
    "#(16) Write a Python program to count the number of characters (character frequency) in a string \n",
    "r = input(\"enter a string\")\n"
   ]
  },
  {
   "cell_type": "code",
   "execution_count": 35,
   "id": "71df2ef8-ef83-49b8-8030-93b99070f7b3",
   "metadata": {},
   "outputs": [
    {
     "name": "stdout",
     "output_type": "stream",
     "text": [
      "vi\n"
     ]
    }
   ],
   "source": [
    "#(17) What are negative indexes and why are they used? \n",
    "\n",
    "s= \"zarvin\"\n",
    "print(s[-3:-1])\n",
    "\n",
    "\n"
   ]
  },
  {
   "cell_type": "code",
   "execution_count": 39,
   "id": "4a722382-8a5a-4827-901e-6253c973729a",
   "metadata": {},
   "outputs": [
    {
     "name": "stdin",
     "output_type": "stream",
     "text": [
      "enter a string zarvinpatel\n",
      "enter a sub string zarvin\n"
     ]
    },
    {
     "name": "stdout",
     "output_type": "stream",
     "text": [
      "the total occcurrenece of substring is : 1\n"
     ]
    }
   ],
   "source": [
    "#(18) Write a Python program to count occurrences of a substring in a string.\n",
    "t=input(\"enter a string\")\n",
    "u=input(\"enter a sub string\")\n",
    "count = t.count(u)\n",
    "print(\"the total occcurrenece of substring is :\",count)"
   ]
  },
  {
   "cell_type": "code",
   "execution_count": 45,
   "id": "6fe15c5e-caf4-489f-adba-d7a4ca9e50a2",
   "metadata": {},
   "outputs": [
    {
     "name": "stdin",
     "output_type": "stream",
     "text": [
      "enter a santances hii zarvin, how are you?\n",
      "enter a word hii zarvin,\n"
     ]
    },
    {
     "name": "stdout",
     "output_type": "stream",
     "text": [
      "the word occurrence in santances  is : 1\n"
     ]
    }
   ],
   "source": [
    "#(19 Write a Python program to count the occurrences of each word in a given sentence \n",
    "\n",
    "v=input(\"enter a santances\")\n",
    "w=input(\"enter a word\")\n",
    "count = v.count(w)\n",
    "print(\"the word occurrence in santances  is :\",count)\n"
   ]
  },
  {
   "cell_type": "code",
   "execution_count": 49,
   "id": "f4472810-6765-404e-a819-0fcfc557db88",
   "metadata": {},
   "outputs": [
    {
     "name": "stdin",
     "output_type": "stream",
     "text": [
      "enter a 1st string zarvin\n",
      "enter a 2nd string patel\n"
     ]
    },
    {
     "data": {
      "text/plain": [
       "'parvin zatel'"
      ]
     },
     "execution_count": 49,
     "metadata": {},
     "output_type": "execute_result"
    }
   ],
   "source": [
    "#(20) Write a Python program to get a single string from two given strings, separated by a space and swap the first two characters of each string. \n",
    "x=input(\"enter a 1st string\")\n",
    "y=input(\"enter a 2nd string\")\n",
    "\n",
    "p= y[:2] + x[2:]\n",
    "q= x[:2] + y[2:]\n",
    "z= p + \" \"+ q\n",
    "z\n"
   ]
  },
  {
   "cell_type": "code",
   "execution_count": 55,
   "id": "450deaed-3eab-4801-b38e-902d5ed5202b",
   "metadata": {},
   "outputs": [
    {
     "name": "stdin",
     "output_type": "stream",
     "text": [
      "enter a word : zarvin \n"
     ]
    },
    {
     "name": "stdout",
     "output_type": "stream",
     "text": [
      "zarvin ing\n"
     ]
    }
   ],
   "source": [
    "#(21) Write a Python program to add 'in' at the end of a given string (length should be at least 3). If the given string already ends with 'ing' then\n",
    "# add 'ly' instead if the string length of the given string is less than 3, leave it unchanged. '''\n",
    "\n",
    "z2=input(\"enter a word :\")\n",
    "if len(z2)<=3:\n",
    "    result = z2\n",
    "elif z2.endswith(\"ing\"):\n",
    "    result = z2+\"ly\"\n",
    "else:\n",
    "    result = z2+\"ing\"\n",
    "print(result)\n",
    "    \n"
   ]
  },
  {
   "cell_type": "code",
   "execution_count": 57,
   "id": "0cd07a8d-452f-46a7-863a-694b9940954a",
   "metadata": {},
   "outputs": [
    {
     "name": "stdin",
     "output_type": "stream",
     "text": [
      "enter a  string zarvin\n"
     ]
    },
    {
     "data": {
      "text/plain": [
       "'zarvin'"
      ]
     },
     "execution_count": 57,
     "metadata": {},
     "output_type": "execute_result"
    }
   ],
   "source": [
    "#(22) Write a Python function to reverses a string if its length is a multiple of 4. \n",
    "z3=input(\"enter a  string\")\n",
    "if len(z3) %4 == 0:\n",
    "    z3= z3[::-1]\n",
    "z3"
   ]
  },
  {
   "cell_type": "code",
   "execution_count": 65,
   "id": "23f1fa6d-a245-424d-8ace-11a5f100fe95",
   "metadata": {},
   "outputs": [
    {
     "name": "stdin",
     "output_type": "stream",
     "text": [
      "enter a string zarvin\n"
     ]
    },
    {
     "data": {
      "text/plain": [
       "'zain'"
      ]
     },
     "execution_count": 65,
     "metadata": {},
     "output_type": "execute_result"
    }
   ],
   "source": [
    "#(23) Write a Python program to get a string made of the first 2 and the last 2 chars from a given a string. If the string length is less than 2, return\n",
    "# instead of the empty string. \n",
    "z3=input(\"enter a string\")\n",
    "if len(z3)<2:\n",
    "    print(\"\")\n",
    "else:\n",
    "    z4 = z3[:2]+z3[-2:]\n",
    "z4"
   ]
  },
  {
   "cell_type": "code",
   "execution_count": 67,
   "id": "7499b182-3607-4898-8097-daaffcc1e782",
   "metadata": {},
   "outputs": [
    {
     "name": "stdin",
     "output_type": "stream",
     "text": [
      "enter a 1st string zarvin\n",
      "enter a 2nd string patel\n"
     ]
    },
    {
     "data": {
      "text/plain": [
       "'zar patelvin'"
      ]
     },
     "execution_count": 67,
     "metadata": {},
     "output_type": "execute_result"
    }
   ],
   "source": [
    "#(24) Write a Python function to insert a string in the middle of a string.\n",
    "z5=input(\"enter a 1st string\")\n",
    "z6=input(\"enter a 2nd string\")\n",
    "\n",
    "z7 = len(z5)//2\n",
    "z8 = z5[:z7]+ \" \" + z6 +z5[z7:]\n",
    "z8"
   ]
  },
  {
   "cell_type": "code",
   "execution_count": 69,
   "id": "e5c3d634-b2ed-4cab-9aa0-930d1117df38",
   "metadata": {},
   "outputs": [
    {
     "data": {
      "text/plain": [
       "[420, 19, 18, 17, 16, 15, 14, 13, 12, 11, 10, 9, 8, 7, 6, 5, 4, 3, 2, 1]"
      ]
     },
     "execution_count": 69,
     "metadata": {},
     "output_type": "execute_result"
    }
   ],
   "source": [
    "#(25) What is List? How will you reverse a list? \n",
    "'''There are many built-in types in Python that allow us to group and store multiple items. Python lists are the most versatile among them.\n",
    "   A list is a collection of ordered, mutable elements '''\n",
    "z9= [1,2,3,4,5,6,7,8,9,10,11,12,13,14,15,16,17,18,19,420]\n",
    "z9.reverse()\n",
    "z9"
   ]
  },
  {
   "cell_type": "code",
   "execution_count": 79,
   "id": "86eee8a9-f2bf-476c-8cb2-d9241d16fd38",
   "metadata": {},
   "outputs": [
    {
     "data": {
      "text/plain": [
       "[1, 2, 3, 4, 5]"
      ]
     },
     "execution_count": 79,
     "metadata": {},
     "output_type": "execute_result"
    }
   ],
   "source": [
    "#(26) How will you remove last object from a list?\n",
    "z10= [1,2,3,4,5,6]\n",
    "z10.pop()\n",
    "z10"
   ]
  },
  {
   "cell_type": "code",
   "execution_count": 81,
   "id": "107fd07f-db90-455a-9f1f-ce642ccb9990",
   "metadata": {},
   "outputs": [
    {
     "data": {
      "text/plain": [
       "25"
      ]
     },
     "execution_count": 81,
     "metadata": {},
     "output_type": "execute_result"
    }
   ],
   "source": [
    "#(27) Suppose list1 is [2, 33, 222, 14, and 25], what is list1 [-1]? \n",
    "latt= [2,33,222,14,25]\n",
    "latt[-1]"
   ]
  },
  {
   "cell_type": "code",
   "execution_count": 93,
   "id": "4b237e21-f07c-476c-aca8-579a998d01fa",
   "metadata": {},
   "outputs": [
    {
     "name": "stdout",
     "output_type": "stream",
     "text": [
      "here [1, 2, 3, 4, 5, 6, 420, 7, 8]\n"
     ]
    }
   ],
   "source": [
    "#(28) Differentiate between append () and extend () methods?\n",
    "   #example\n",
    "z12 = [1,2,3,4,5,6,420]\n",
    "z12.append([7,8])\n",
    "z12\n",
    "z12.extend([7,8])\n",
    "z12\n",
    "z12.remove([7,8])\n",
    "print(\"here\",z12)"
   ]
  },
  {
   "cell_type": "code",
   "execution_count": null,
   "id": "a312b514-3fd5-4191-8a14-98f602d972e0",
   "metadata": {},
   "outputs": [],
   "source": [
    "#(29) Write a Python function to get the largest number, smallest num and sum of all from a list. \n",
    "z13=[1,3,5,7,9,11,13]\n",
    "large = max(z13)\n",
    "small = min(z13)\n",
    "sum3 = sum(z13)\n",
    "print(type(z13))\n",
    "print(\"large number is :\",large)\n",
    "print(\"small number is :\",small)\n",
    "print(\"sum number is :\",sum3)"
   ]
  },
  {
   "cell_type": "code",
   "execution_count": 101,
   "id": "34666b5d-a1a9-4aa3-b0c6-83a2356414b8",
   "metadata": {},
   "outputs": [
    {
     "name": "stdout",
     "output_type": "stream",
     "text": [
      "list are not equal\n"
     ]
    }
   ],
   "source": [
    "#(30)How will you compare two lists?\n",
    "z17=[1,2,3,4]\n",
    "z18=[1,2,3,5]\n",
    "if z17== z18:\n",
    "    print(\"list are equal\")\n",
    "else:\n",
    "    print(\"list are not equal\")"
   ]
  },
  {
   "cell_type": "code",
   "execution_count": 19,
   "id": "4d7a10e8-73ca-4956-804d-114a83484114",
   "metadata": {},
   "outputs": [
    {
     "name": "stdout",
     "output_type": "stream",
     "text": [
      "4\n"
     ]
    }
   ],
   "source": [
    "#(31) Write a Python program to count the number of strings where the string length is 2 or more and the first and last character are same from a\n",
    "#given list of strings.\n",
    "def zarvin(strings):\n",
    "    count = 0\n",
    "    for string in strings:\n",
    "        if len(string) >= 2 and string[0] == string[-1]:\n",
    "            count = count +  1\n",
    "    return count\n",
    "x1 = [\"aba\", \"xyz\", \"abc\", \"a\", \"aa\", \"bcd\", \"aba\", \"bb\"]\n",
    "result = zarvin(x1)\n",
    "print(result)\n",
    "\n",
    " "
   ]
  },
  {
   "cell_type": "code",
   "execution_count": 27,
   "id": "b9a3a55e-b876-4b3d-a78e-7a588c2b2be4",
   "metadata": {},
   "outputs": [
    {
     "data": {
      "text/plain": [
       "{1, 2, 3, 4, 5, 6, 7, 8, 9}"
      ]
     },
     "execution_count": 27,
     "metadata": {},
     "output_type": "execute_result"
    }
   ],
   "source": [
    "#(32)Write a Python program to remove duplicates from a list.\n",
    "\n",
    "x4=[1,2,3,4,4,5,5,6,6,7,8,9,8,7,9,]\n",
    "x5=set(x4)\n",
    "x5"
   ]
  },
  {
   "cell_type": "code",
   "execution_count": 29,
   "id": "a9ca7203-38b8-4db0-850c-f04f94e2b04a",
   "metadata": {},
   "outputs": [
    {
     "name": "stdout",
     "output_type": "stream",
     "text": [
      "list is empty\n"
     ]
    }
   ],
   "source": [
    "#(33)Write a Python program to check a list is empty or not\n",
    "z22= []\n",
    "if len(z22) == 0:\n",
    "    print(\"list is empty\")\n",
    "else:\n",
    "    print(\"list is not empty\")"
   ]
  },
  {
   "cell_type": "code",
   "execution_count": 35,
   "id": "2a6a7ab0-e9f9-4cc3-8654-3d61cca98d89",
   "metadata": {},
   "outputs": [
    {
     "name": "stdout",
     "output_type": "stream",
     "text": [
      "true\n"
     ]
    }
   ],
   "source": [
    "#(34) Write a Python function that takes two lists and returns true if they have at least one common member. \n",
    "z27 = [1,2,3,4]\n",
    "z28 = [4,5,6,7]\n",
    "for i in z27:\n",
    "    if i in z28:\n",
    "        x = \"true\"\n",
    "        break\n",
    "    else:\n",
    "        x= \"false\"\n",
    "print(x)\n"
   ]
  },
  {
   "cell_type": "code",
   "execution_count": 39,
   "id": "0f571b36-92c0-4e6a-936d-dc4ed0994f4a",
   "metadata": {},
   "outputs": [
    {
     "name": "stdout",
     "output_type": "stream",
     "text": [
      "[1, 4, 9, 16, 25, 676, 729, 784, 841, 900]\n"
     ]
    }
   ],
   "source": [
    "#(35) Write a Python program to generate and print a list of first and last 5 elements where the values are square of numbers between 1 and 30.\n",
    "z29=[i**2  for i in range (1,31)]\n",
    "print(z29[:5]+z29[-5:])"
   ]
  },
  {
   "cell_type": "code",
   "execution_count": 41,
   "id": "f62f4e65-ed1a-439e-b155-dd0c20b4ecf0",
   "metadata": {},
   "outputs": [
    {
     "data": {
      "text/plain": [
       "{1, 2, 3, 4, 5, 'a', 'b'}"
      ]
     },
     "execution_count": 41,
     "metadata": {},
     "output_type": "execute_result"
    }
   ],
   "source": [
    "#(36) Write a Python function that takes a list and returns a new list with unique elements of the first list.\n",
    "z0 = [1,2,3,4,3,2,5,'a','b']\n",
    "z21 = set(z0)\n",
    "z21"
   ]
  },
  {
   "cell_type": "code",
   "execution_count": 43,
   "id": "3cc3d3c6-b340-4c6b-a64a-8a8fee8dd221",
   "metadata": {},
   "outputs": [
    {
     "data": {
      "text/plain": [
       "'zarvin'"
      ]
     },
     "execution_count": 43,
     "metadata": {},
     "output_type": "execute_result"
    }
   ],
   "source": [
    "#(37)Write a Python program to convert a list of characters into a string. \n",
    "z22 = [\"z\",\"a\",\"r\",\"v\",\"i\",\"n\"]\n",
    "z23 = \"\".join(z22)\n",
    "z23"
   ]
  },
  {
   "cell_type": "code",
   "execution_count": 45,
   "id": "fc220a4e-1ad8-4fdd-a87e-9eb1a20be55d",
   "metadata": {},
   "outputs": [
    {
     "name": "stdout",
     "output_type": "stream",
     "text": [
      "z\n"
     ]
    }
   ],
   "source": [
    "#(38)Write a Python program to select an item randomly from a list. \n",
    "import random\n",
    "z24= [1,2,3,4,5,\"z\",\"a\"]\n",
    "print(random.choice(z24))\n"
   ]
  },
  {
   "cell_type": "code",
   "execution_count": 51,
   "id": "ac6438bf-8203-4126-94cf-a7cfeacda7f9",
   "metadata": {},
   "outputs": [
    {
     "data": {
      "text/plain": [
       "1"
      ]
     },
     "execution_count": 51,
     "metadata": {},
     "output_type": "execute_result"
    }
   ],
   "source": [
    "#(39)Write a Python program to find the second smallest number in a list. \n",
    "z25 = [0,1,2,3,4,5]\n",
    "z25.remove(min(z25))\n",
    "z26= min(z25)\n",
    "z26"
   ]
  },
  {
   "cell_type": "code",
   "execution_count": 55,
   "id": "8825ef7e-ce3c-423b-bff3-5cca84cde3eb",
   "metadata": {},
   "outputs": [
    {
     "name": "stdout",
     "output_type": "stream",
     "text": [
      "Unique List= {1, 2, 3, 4, 5, 'a', 'c', 'b'}\n"
     ]
    }
   ],
   "source": [
    "#(40)Write a Python program to get unique values from a list \n",
    "\n",
    "z27=[1,2,4,3,4,5,\"a\",\"b\",\"c\",\"c\"]\n",
    "z28 = set(z27)\n",
    "print(\"Unique List=\", z28)"
   ]
  },
  {
   "cell_type": "code",
   "execution_count": 59,
   "id": "5db5722c-80b8-4f27-a12d-7591decaab2f",
   "metadata": {},
   "outputs": [
    {
     "name": "stdout",
     "output_type": "stream",
     "text": [
      "sub list\n",
      "sub list\n"
     ]
    }
   ],
   "source": [
    "#(41)Write a Python program to check whether a list contains a sub list \n",
    "\n",
    "z29 = [1,2,3,4,5,6,7,9]\n",
    "z20 = [9,7]\n",
    "for i in z20:\n",
    "    if i in z29:\n",
    "        print(\"sub list\")\n",
    "    else:\n",
    "        print(\"not sub list\")"
   ]
  },
  {
   "cell_type": "code",
   "execution_count": 61,
   "id": "8c41532a-f498-4154-a437-faac9c3cc8ed",
   "metadata": {},
   "outputs": [
    {
     "name": "stdout",
     "output_type": "stream",
     "text": [
      "(3, 4, 5)\n",
      "(1, 2)\n"
     ]
    }
   ],
   "source": [
    "#(42)Write a Python program to split a list into different variables. \n",
    "z21 = [(1,2),(3,4,5)]\n",
    "z23,z22 = z21\n",
    "print(z22)\n",
    "print(z23)\n",
    "\n"
   ]
  },
  {
   "cell_type": "code",
   "execution_count": 63,
   "id": "b98b8aae-ccec-482b-a2ec-e6e1a4da1e1c",
   "metadata": {},
   "outputs": [
    {
     "data": {
      "text/plain": [
       "tuple"
      ]
     },
     "execution_count": 63,
     "metadata": {},
     "output_type": "execute_result"
    }
   ],
   "source": [
    "#(44)Write a Python program to create a tuple with different data types. \n",
    "x32 = (\"z\",\"a\",\"r\",\"v\",\"i\",\"n\",1,2,3)\n",
    "x32\n",
    "type(x32)"
   ]
  },
  {
   "cell_type": "code",
   "execution_count": 65,
   "id": "002787e1-e9a7-4eda-ba71-bc23bc407960",
   "metadata": {},
   "outputs": [
    {
     "data": {
      "text/plain": [
       "(('4', 'z', 'a', '7', 5),)"
      ]
     },
     "execution_count": 65,
     "metadata": {},
     "output_type": "execute_result"
    }
   ],
   "source": [
    "#(45)Write a Python program to unzip a list of tuples into individual lists. \n",
    "z23 = ('420','z','a','7',(5,8))\n",
    "z24 = tuple(zip(*z23))\n",
    "z24"
   ]
  },
  {
   "cell_type": "code",
   "execution_count": 69,
   "id": "5326fa70-725e-4041-9b2f-a6301c9a561f",
   "metadata": {},
   "outputs": [
    {
     "data": {
      "text/plain": [
       "{'z': 1, 'a': 2, 'r': 3}"
      ]
     },
     "execution_count": 69,
     "metadata": {},
     "output_type": "execute_result"
    }
   ],
   "source": [
    "#(46)Write a Python program to convert a list of tuples into a dictionary. \n",
    "z4 = [(\"z\",1),(\"a\",2),(\"r\",3)]\n",
    "zadic= dict(z4)\n",
    "zadic"
   ]
  },
  {
   "cell_type": "code",
   "execution_count": 71,
   "id": "40d67adf-b3eb-4834-b53b-507a74198f48",
   "metadata": {},
   "outputs": [
    {
     "data": {
      "text/plain": [
       "{('z', 'a', 'r', 'v', 'i', 'n'), 1, 2, 3, 4, 5, 6, 7, 8, 9}"
      ]
     },
     "execution_count": 71,
     "metadata": {},
     "output_type": "execute_result"
    }
   ],
   "source": [
    "#(47)How will you create a dictionary using tuples in python? \n",
    "dic = {1,2,3,4,5,6,7,8,9,(\"z\",\"a\",\"r\",\"v\",\"i\",\"n\")}\n",
    "dic\n"
   ]
  },
  {
   "cell_type": "code",
   "execution_count": 77,
   "id": "00550721-6671-43eb-a0c1-4b99942c3e40",
   "metadata": {},
   "outputs": [
    {
     "data": {
      "text/plain": [
       "{1, 2, 3, 4, 5, 6, 8}"
      ]
     },
     "execution_count": 77,
     "metadata": {},
     "output_type": "execute_result"
    }
   ],
   "source": [
    "#(48)Write a Python script to sort (ascending and descending) a dictionary by value. \n",
    "dic1= {1,2,6,4,8,3,5}\n",
    "set(dic1)"
   ]
  },
  {
   "cell_type": "code",
   "execution_count": 89,
   "id": "86e5d449-168e-4098-8f51-4e06e5dccf27",
   "metadata": {},
   "outputs": [
    {
     "name": "stdout",
     "output_type": "stream",
     "text": [
      "{'z': 1, 'v': 2, 'a': 3, 'i': 4, 'r': 5, 'n': 6}\n"
     ]
    }
   ],
   "source": [
    "#(49)Write a Python script to concatenate following dictionaries to create a new one. \n",
    "z3 = {'z':1,'v':2}\n",
    "z4 = {'a':3,'i':4}\n",
    "z5 = {'r':5,'n':6}\n",
    "\n",
    "z6 = z3.copy()\n",
    "z6.update(z4)\n",
    "z6.update(z5)\n",
    "\n",
    "print(z6)\n"
   ]
  },
  {
   "cell_type": "code",
   "execution_count": 91,
   "id": "c4b59483-1f31-48f0-a3ec-7c89b55f6706",
   "metadata": {},
   "outputs": [
    {
     "name": "stdin",
     "output_type": "stream",
     "text": [
      "enter a key: banana\n"
     ]
    },
    {
     "name": "stdout",
     "output_type": "stream",
     "text": [
      "key is in dictionary\n"
     ]
    }
   ],
   "source": [
    "#(50)Write a Python script to check if a given key already exists in a dictionary. \n",
    "z7 = { 'apple':1,'watermelon':2,'banana':3}\n",
    "key = input(\"enter a key:\")\n",
    "if key in z7:\n",
    "    print(\"key is in dictionary\")\n",
    "else:\n",
    "    pint(\"key is  not in dictionary\")"
   ]
  },
  {
   "cell_type": "code",
   "execution_count": 95,
   "id": "057528a9-30b8-4248-be10-49dd77d33d9d",
   "metadata": {},
   "outputs": [
    {
     "name": "stdout",
     "output_type": "stream",
     "text": [
      "dict_keys(['zarvin', 'kushal', 'prashant'])\n",
      "dict_values([1, 2, 3])\n",
      "dict_items([('zarvin', 1), ('kushal', 2), ('prashant', 3)])\n"
     ]
    }
   ],
   "source": [
    "#(51)How Do You Traverse Through a Dictionary Object in Python? \n",
    "dic={\"zarvin\":1,\"kushal\":2,\"prashant\":3}\n",
    "z1=dic.keys()\n",
    "z2=dic.values()\n",
    "z3=dic.items()\n",
    "print(z1)\n",
    "print(z2)\n",
    "print(z3)"
   ]
  },
  {
   "cell_type": "code",
   "execution_count": 101,
   "id": "f9e82f4e-083a-42da-8927-6941244dd815",
   "metadata": {},
   "outputs": [
    {
     "name": "stdin",
     "output_type": "stream",
     "text": [
      "enter a key: ironman\n"
     ]
    },
    {
     "name": "stdout",
     "output_type": "stream",
     "text": [
      "key is in dictionary\n"
     ]
    }
   ],
   "source": [
    "#(52)How Do You Check the Presence of a Key in A Dictionary? \n",
    "dic = { 'ironman':1,'wanda':2,'thor':3,'captainamerica':4,'hulk':5}\n",
    "key = input(\"enter a key:\")\n",
    "if key in dic:\n",
    "    print(\"key is in dictionary\")\n",
    "else:\n",
    "    print(\"key is  not in dictionary\")"
   ]
  },
  {
   "cell_type": "code",
   "execution_count": 109,
   "id": "f727a85a-f97b-481d-8dd1-20207cebb5ed",
   "metadata": {},
   "outputs": [
    {
     "name": "stdout",
     "output_type": "stream",
     "text": [
      "{1: '$', 2: '$', 3: '$', 4: '$', 5: '$', 6: '$', 7: '$', 8: '$', 9: '$', 10: '$', 11: '$', 12: '$', 13: '$', 14: '$', 15: '$'}\n"
     ]
    }
   ],
   "source": [
    "#(53)Write a Python script to print a dictionary where the keys are numbers between 1 and 15. \n",
    "dict= {}\n",
    "\n",
    "for key in range (1,16):\n",
    "    dict[key]='$'\n",
    "\n",
    "print(dict)\n"
   ]
  },
  {
   "cell_type": "code",
   "execution_count": 115,
   "id": "f8c72fed-72d0-44a5-99fa-2b8be18dbefd",
   "metadata": {},
   "outputs": [
    {
     "name": "stdout",
     "output_type": "stream",
     "text": [
      " all key are in dictionary\n"
     ]
    }
   ],
   "source": [
    "#(54)Write a Python program to check multiple keys exists in a dictionary\n",
    "z54 = { \"ironman\":1,\"hulk\":2,\"thor\":3}\n",
    "key = [\"ironman\",\"thor\",\"hulk\"]\n",
    "if all(i in z54 for i in key):\n",
    "    print(\" all key are in dictionary\")\n",
    "else:\n",
    "    pint(\" all key  are not in dictionary\")"
   ]
  },
  {
   "cell_type": "code",
   "execution_count": 127,
   "id": "962d6f24-6bdc-4b68-a729-9e56e5ce86a7",
   "metadata": {},
   "outputs": [
    {
     "data": {
      "text/plain": [
       "{1, 2, 3, 4, 420, 'r', 'z'}"
      ]
     },
     "execution_count": 127,
     "metadata": {},
     "output_type": "execute_result"
    }
   ],
   "source": [
    "#(55)Write a Python script to merge two Python dictionaries \n",
    "z544= {1,2,3,4,420}\n",
    "z55={'z','r'}\n",
    "def add(z544,z55):\n",
    "    return(z544.update(z55))\n",
    "merge(z544,z55)\n",
    "z544"
   ]
  },
  {
   "cell_type": "code",
   "execution_count": 135,
   "id": "beffc722-bb08-4a49-b882-aef8fc9a879c",
   "metadata": {},
   "outputs": [
    {
     "data": {
      "text/plain": [
       "{'x': 1, 'y': 2, 'z': 3}"
      ]
     },
     "execution_count": 135,
     "metadata": {},
     "output_type": "execute_result"
    }
   ],
   "source": [
    "#(56)Write a Python program to map two lists into a dictionary \n",
    "#Sample output: Counter ({'a': 400, 'b': 400,’d’: 400, 'c': 300}). \n",
    "key = ['x','y','z']\n",
    "value = [1,2,3]\n",
    "dict78 = {}\n",
    "for  i in range(len(key)):\n",
    "    dict78[key[i]] = value[i]\n",
    "dict78"
   ]
  },
  {
   "cell_type": "code",
   "execution_count": 163,
   "id": "b38d7c8d-6d2a-44c4-a35c-9895da0c6328",
   "metadata": {},
   "outputs": [
    {
     "name": "stdout",
     "output_type": "stream",
     "text": [
      "the highest three value is: [687, 874, 985]\n"
     ]
    }
   ],
   "source": [
    "#(57)Write a Python program to find the highest 3 values in a dictionary \n",
    "dic56= {584,420,569,321,652,687,874,985,556}\n",
    "lst = list(dic56)\n",
    "lst.sort()\n",
    "print(\"the highest three value is:\",lst[6:])"
   ]
  },
  {
   "cell_type": "code",
   "execution_count": 3,
   "id": "82c02bbd-c811-47a8-809c-6fbaa23f2530",
   "metadata": {},
   "outputs": [
    {
     "name": "stdout",
     "output_type": "stream",
     "text": [
      "{'item1': 1150, 'item2': 300}\n"
     ]
    }
   ],
   "source": [
    "#(58)Write a Python program to combine values in python list of dictionaries.\n",
    "#Sample data: [{'item': 'item1', 'amount': 400}, {'item': 'item2', 'amount':300}, o {'item': 'item1', 'amount': 750}]\n",
    "#Expected Output: Counter ({'item1': 1150, 'item2': 300})\n",
    "z35 = [\n",
    "    {'item': 'item1', 'amount': 400},\n",
    "    {'item': 'item2', 'amount': 300},\n",
    "    {'item': 'item1', 'amount': 750}]\n",
    "z36={}\n",
    "for i in z35:\n",
    "    items = i[\"item\"]\n",
    "    amount = i[\"amount\"]\n",
    "    if items in z36:\n",
    "        z36[items] += amount\n",
    "    else:\n",
    "        z36[items] = amount\n",
    "print(z36)"
   ]
  },
  {
   "cell_type": "code",
   "execution_count": 97,
   "id": "075ae68e-c662-4a38-941b-54852a0efec9",
   "metadata": {},
   "outputs": [
    {
     "name": "stdin",
     "output_type": "stream",
     "text": [
      "enter a string adjfvjdsvdas\n"
     ]
    },
    {
     "name": "stdout",
     "output_type": "stream",
     "text": [
      "{'a': 2, 'd': 3, 'j': 2, 'f': 1, 'v': 2, 's': 2}\n"
     ]
    }
   ],
   "source": [
    "#(59)Write a Python program to create a dictionary from a string.\n",
    "#Note: Track the count of the letters from the string. \n",
    "\n",
    "str = input(\"enter a string\")\n",
    "char_count = {}\n",
    "for  i in str:\n",
    "    if  i in char_count:\n",
    "        char_count[i] += 1\n",
    "    else:\n",
    "        char_count[i] = 1\n",
    "print(char_count)"
   ]
  },
  {
   "cell_type": "code",
   "execution_count": 99,
   "id": "67a8766c-07f7-490d-ba96-779ee48ed133",
   "metadata": {},
   "outputs": [
    {
     "name": "stdout",
     "output_type": "stream",
     "text": [
      "{'w': 1, '3': 1, 'r': 2, 'e': 2, 's': 1, 'o': 1, 'u': 1, 'c': 1}\n"
     ]
    }
   ],
   "source": [
    "#(60)Sample string:\n",
    "# 'w3resource' Expected output: • {'3': 1,’s’: 1, 'r': 2, 'u': 1, 'w': 1, 'c': 1, 'e': 2, 'o': 1}\n",
    "str2 = \"w3resource\"\n",
    "char_count2 = {}\n",
    "for  j in str2:\n",
    "    if  j in char_count2:\n",
    "        char_count2[j] += 1\n",
    "    else:\n",
    "        char_count2[j] = 1\n",
    "print(char_count2)\n",
    "print"
   ]
  },
  {
   "cell_type": "code",
   "execution_count": 7,
   "id": "3c2299b4-84e3-4c40-b8bd-8f84f84bec2c",
   "metadata": {},
   "outputs": [
    {
     "name": "stdin",
     "output_type": "stream",
     "text": [
      "enter a number 85\n"
     ]
    },
    {
     "data": {
      "text/plain": [
       "281710411438055027694947944226061159480056634330574206405101912752560026159795933451040286452340924018275123200000000000000000000"
      ]
     },
     "execution_count": 7,
     "metadata": {},
     "output_type": "execute_result"
    }
   ],
   "source": [
    "#(61)Write a Python function to calculate the factorial of a number (anonnegative integer) \n",
    "import math\n",
    "z41 = int(input(\"enter a number\"))\n",
    "z42 = math.factorial(z41)\n",
    "z42"
   ]
  },
  {
   "cell_type": "code",
   "execution_count": 13,
   "id": "94ea4125-5a1e-4cf3-b5ca-740b8e56a0d4",
   "metadata": {},
   "outputs": [
    {
     "name": "stdin",
     "output_type": "stream",
     "text": [
      "enter start a number 85\n",
      "enter end number 4\n",
      "enter a number 83\n"
     ]
    },
    {
     "name": "stdout",
     "output_type": "stream",
     "text": [
      "False\n"
     ]
    }
   ],
   "source": [
    "#(62)Write a Python function to check whether a number is in a given range \n",
    "def zarvin(start,x43,end,):\n",
    "    return start <= z43 <= end\n",
    "start=int(input(\"enter start a number\"))\n",
    "end = int(input(\"enter end number\"))\n",
    "z43 = int(input(\"enter a number\"))\n",
    "print(zarvin(start,z43,end))"
   ]
  },
  {
   "cell_type": "code",
   "execution_count": 130,
   "id": "4d96de80-77f1-42a1-8e96-a0d641992711",
   "metadata": {},
   "outputs": [],
   "source": [
    "#(63)Write a Python function to check whether a number is perfect or not. \n"
   ]
  },
  {
   "cell_type": "code",
   "execution_count": 15,
   "id": "ccc38621-67d4-4327-a0dd-4c1aca28b420",
   "metadata": {},
   "outputs": [
    {
     "name": "stdin",
     "output_type": "stream",
     "text": [
      "enter a string zarvin\n"
     ]
    },
    {
     "name": "stdout",
     "output_type": "stream",
     "text": [
      "it is bot palindrome\n"
     ]
    }
   ],
   "source": [
    "#(64)Write a Python function that checks whether a passed string is palindrome or not \n",
    "def apache(x):\n",
    "    return x == x[::-1]\n",
    "z800 = input(\"enter a string\")\n",
    "if apache(z800):\n",
    "    print(\"it is palindrome\")\n",
    "else:\n",
    "    print(\"it is bot palindrome\")"
   ]
  },
  {
   "cell_type": "code",
   "execution_count": 17,
   "id": "8745ae5b-fdfd-4cc0-9758-b1885c1e5354",
   "metadata": {},
   "outputs": [
    {
     "name": "stdout",
     "output_type": "stream",
     "text": [
      "300\n"
     ]
    }
   ],
   "source": [
    "#(66)How can you pick a random item from a list or tuple?\n",
    "import random\n",
    "lzt = [100,200,300,400,500,600]\n",
    "print(random.choice(lzt))\n"
   ]
  },
  {
   "cell_type": "code",
   "execution_count": 19,
   "id": "969bac90-11d2-47b8-8f2a-61075c1b98ef",
   "metadata": {},
   "outputs": [
    {
     "name": "stdout",
     "output_type": "stream",
     "text": [
      "180\n"
     ]
    }
   ],
   "source": [
    "#(67)How can you pick a random item from a range? \n",
    "print(random.randrange(1,550))"
   ]
  },
  {
   "cell_type": "code",
   "execution_count": 23,
   "id": "277f3b60-ae12-4b7f-b76f-44433a753f2f",
   "metadata": {},
   "outputs": [
    {
     "name": "stdout",
     "output_type": "stream",
     "text": [
      "0.11744448095063675\n"
     ]
    }
   ],
   "source": [
    "#(68)How can you get a random number in python?\n",
    "random.seed()\n",
    "print(random.random())"
   ]
  },
  {
   "cell_type": "code",
   "execution_count": 35,
   "id": "1fcfeeb0-eb5c-41d0-a3ef-e7f9de844083",
   "metadata": {},
   "outputs": [
    {
     "name": "stdin",
     "output_type": "stream",
     "text": [
      "Enter the strating number : 950\n"
     ]
    },
    {
     "name": "stdout",
     "output_type": "stream",
     "text": [
      "967\n"
     ]
    }
   ],
   "source": [
    "#(69)How will you set the starting value in generating random numbers?\n",
    "z66 = int(input(\"Enter the strating number :\"))\n",
    "\n",
    "z67 = random.randrange(z66,1000)\n",
    "print(z67)"
   ]
  },
  {
   "cell_type": "code",
   "execution_count": 43,
   "id": "695855d9-a020-4440-8223-03cd63728a53",
   "metadata": {},
   "outputs": [
    {
     "name": "stdout",
     "output_type": "stream",
     "text": [
      "old [21, 44, 68, 88, 58, 85, 86, 87, 88, 89, 90]\n",
      "New:: [88, 89, 86, 87, 68, 88, 58, 44, 85, 21, 90]\n"
     ]
    }
   ],
   "source": [
    "#(70) How will you randomize the items of a list in place? \n",
    "lstt67 = [21,44,68,88,58,85,86,87,88,89,90]\n",
    "print(\"old\",lstt67)\n",
    "random.shuffle(lstt67)\n",
    "print(\"New::\" ,lstt67)"
   ]
  },
  {
   "cell_type": "code",
   "execution_count": 71,
   "id": "59a3826d-7b04-4f49-85d0-36d1a57781d2",
   "metadata": {},
   "outputs": [
    {
     "name": "stdout",
     "output_type": "stream",
     "text": [
      "hii, i am programertxt\n",
      " \n"
     ]
    }
   ],
   "source": [
    "#(72)Write a Python program to read an entire text file. \n",
    "bz = open(\"zarvin.txt\")\n",
    "print(bz.read())"
   ]
  },
  {
   "cell_type": "code",
   "execution_count": 73,
   "id": "6fc6d027-232e-4ff0-9084-245a14dcb5c3",
   "metadata": {},
   "outputs": [
    {
     "name": "stdout",
     "output_type": "stream",
     "text": [
      "hii, i am programertxt\n",
      " txt\n"
     ]
    }
   ],
   "source": [
    "#(73)Write a Python program to append text to a file and display the text. \n",
    "\n",
    "qp = open(\"zarvin.txt\", \"a\")\n",
    "qp.write(\"txt\")\n",
    "qp.close()\n",
    "qp = open(\"zarvin.txt\", \"r\")\n",
    "print(qp.read())"
   ]
  },
  {
   "cell_type": "code",
   "execution_count": 75,
   "id": "51d59750-b532-4fe2-964b-a6495cf9bfd1",
   "metadata": {},
   "outputs": [
    {
     "name": "stdout",
     "output_type": "stream",
     "text": [
      "hii, i am programertxt\n",
      "\n"
     ]
    }
   ],
   "source": [
    "#(74)Write a Python program to read first n lines of a file. \n",
    "cc = open(\"zarvin.txt\",\"r\")\n",
    "print(cc.readline())"
   ]
  },
  {
   "cell_type": "code",
   "execution_count": 77,
   "id": "9dfec6cd-1003-443b-9573-4f28db2d1256",
   "metadata": {},
   "outputs": [
    {
     "name": "stdout",
     "output_type": "stream",
     "text": [
      " hello i am doing my work  now\n"
     ]
    }
   ],
   "source": [
    "#(75)Write a Python program to read last n lines of a file.\n",
    "zz = open(\"zarvin.txt\",\"a\")\n",
    "zz.write(\"\\n hello i am doing my work  now\")\n",
    "zz.close()\n",
    "zz = open(\"zarvin.txt\",\"r\")\n",
    "p = list(zz.readlines())\n",
    "print(p[-1])\n"
   ]
  },
  {
   "cell_type": "code",
   "execution_count": 79,
   "id": "58c1c2d3-2c1f-4867-a4c3-0127f64e8444",
   "metadata": {},
   "outputs": [
    {
     "name": "stdout",
     "output_type": "stream",
     "text": [
      "['hii, i am programertxt\\n', ' txt\\n', ' hello i am doing my work  now']\n"
     ]
    }
   ],
   "source": [
    "#(76)Write a Python program to read a file line by line and store it into a list \n",
    "dd = open(\"zarvin.txt\",\"r\")\n",
    "qq= list(dd.readlines())\n",
    "print(qq)\n",
    "\n"
   ]
  },
  {
   "cell_type": "code",
   "execution_count": 81,
   "id": "99f0b8fe-adb8-4cda-94b7-c7aaacf2f84c",
   "metadata": {},
   "outputs": [
    {
     "name": "stdout",
     "output_type": "stream",
     "text": [
      "['hii, i am programertxt\\n', ' txt\\n', ' hello i am doing my work  now']\n"
     ]
    }
   ],
   "source": [
    "#(77)Write a Python program to read a file line by line store it into a variable. \n",
    "oo = open(\"zarvin.txt\",\"r\")\n",
    "ii = str(oo.readlines())\n",
    "print(ii)"
   ]
  },
  {
   "cell_type": "code",
   "execution_count": 85,
   "id": "a9f447b7-c7e0-44ad-89df-1dfac242905d",
   "metadata": {},
   "outputs": [
    {
     "data": {
      "text/plain": [
       "'programertxt'"
      ]
     },
     "execution_count": 85,
     "metadata": {},
     "output_type": "execute_result"
    }
   ],
   "source": [
    "#(78)Write a python program to find the longest words. \n",
    "bb = open(\"zarvin.txt\",\"r\")\n",
    "g = bb.read()\n",
    "h=g.split()\n",
    "h\n",
    "long_word=max(h,key=len)\n",
    "long_word"
   ]
  },
  {
   "cell_type": "code",
   "execution_count": 87,
   "id": "912c8f21-7034-4a7e-b805-edb9c035ce26",
   "metadata": {},
   "outputs": [
    {
     "data": {
      "text/plain": [
       "3"
      ]
     },
     "execution_count": 87,
     "metadata": {},
     "output_type": "execute_result"
    }
   ],
   "source": [
    "#(79)Write a Python program to count the number of lines in a text file. \n",
    "gg= open(\"zarvin.txt\",\"r\")\n",
    "ff = len(gg.readlines())\n",
    "ff"
   ]
  },
  {
   "cell_type": "code",
   "execution_count": 93,
   "id": "7aa16168-6e53-47e5-9441-4863817a8416",
   "metadata": {},
   "outputs": [
    {
     "name": "stdout",
     "output_type": "stream",
     "text": [
      "{'hii,': 1, 'i': 2, 'am': 2, 'programertxt': 1, 'txt': 1, 'hello': 1, 'doing': 1, 'my': 1, 'work': 1, 'now': 1}\n"
     ]
    },
    {
     "data": {
      "text/plain": [
       "['hii,',\n",
       " 'i',\n",
       " 'am',\n",
       " 'programertxt',\n",
       " 'txt',\n",
       " 'hello',\n",
       " 'i',\n",
       " 'am',\n",
       " 'doing',\n",
       " 'my',\n",
       " 'work',\n",
       " 'now']"
      ]
     },
     "execution_count": 93,
     "metadata": {},
     "output_type": "execute_result"
    }
   ],
   "source": [
    "#(80)Write a Python program to count the frequency of words in a file. \n",
    "def count(bg):\n",
    "    char_count = {}\n",
    "    for char in bg:\n",
    "        if char in char_count:\n",
    "            char_count[char] += 1\n",
    "        else:\n",
    "            char_count[char] = 1\n",
    "    return char_count\n",
    "print(countt(h))\n",
    "h"
   ]
  },
  {
   "cell_type": "code",
   "execution_count": 103,
   "id": "a00a21a2-0290-4e1d-b3f6-d58d973a74ab",
   "metadata": {},
   "outputs": [
    {
     "name": "stdout",
     "output_type": "stream",
     "text": [
      "zarvin\n"
     ]
    }
   ],
   "source": [
    "#(81)Write a Python program to write a list to a file. \n",
    "lstt89 = ['z','a','r','v','in']\n",
    "jk= open(\"nainesh.txt\",\"w\")\n",
    "for i in lstt89:\n",
    "    jk.write(i)\n",
    "jk.close()\n",
    "kt= open(\"nainesh.txt\",\"r\")\n",
    "print(kt.read())\n",
    "\n",
    "\n"
   ]
  },
  {
   "cell_type": "code",
   "execution_count": 4,
   "id": "ae44e9a6-2b60-4ce3-8d41-94679d2cca14",
   "metadata": {},
   "outputs": [],
   "source": [
    "#(82)Write a Python program to copy the contents of a file to another file\n",
    "bj= open(\"nainesh.txt\",\"a\")\n",
    "pk = open(\"zarvin.txt\",\"r\")\n",
    "p9 = bj.write(pk.read())\n"
   ]
  },
  {
   "cell_type": "code",
   "execution_count": 107,
   "id": "b8194777-1e8c-4575-ae38-ff2f10b401cb",
   "metadata": {},
   "outputs": [
    {
     "name": "stdout",
     "output_type": "stream",
     "text": [
      "zarvin\n",
      "ironman\n"
     ]
    }
   ],
   "source": [
    "#(89)How Do You Handle Exceptions with Try/Except/Finally in Python? Explain with coding snippets. \n",
    "try:\n",
    "    print(b2)\n",
    "except:\n",
    "    print(\"zarvin\")\n",
    "finally:\n",
    "    print(\"ironman\")"
   ]
  },
  {
   "cell_type": "code",
   "execution_count": 113,
   "id": "ddac26b3-e8fe-4575-9c13-44d44b3f6324",
   "metadata": {},
   "outputs": [
    {
     "name": "stdin",
     "output_type": "stream",
     "text": [
      "Enter odd number:  421\n"
     ]
    },
    {
     "name": "stdout",
     "output_type": "stream",
     "text": [
      "odd number: 421\n"
     ]
    }
   ],
   "source": [
    "#(90)Write python program that user to enter only odd numbers, else will raise an exception. \n",
    "try:\n",
    "    da = int(input(\"Enter odd number: \"))\n",
    "    if da % 2 == 0:\n",
    "        raise (Error(\"Error: The number is not odd number!\"))\n",
    "    print(f\"odd number: {da}\")\n",
    "except Error:\n",
    "    print(Error)\n"
   ]
  },
  {
   "cell_type": "code",
   "execution_count": null,
   "id": "615d7e90-ab19-4e1b-841a-b28be8f3c206",
   "metadata": {},
   "outputs": [],
   "source": []
  }
 ],
 "metadata": {
  "kernelspec": {
   "display_name": "Python [conda env:base] *",
   "language": "python",
   "name": "conda-base-py"
  },
  "language_info": {
   "codemirror_mode": {
    "name": "ipython",
    "version": 3
   },
   "file_extension": ".py",
   "mimetype": "text/x-python",
   "name": "python",
   "nbconvert_exporter": "python",
   "pygments_lexer": "ipython3",
   "version": "3.12.7"
  }
 },
 "nbformat": 4,
 "nbformat_minor": 5
}
